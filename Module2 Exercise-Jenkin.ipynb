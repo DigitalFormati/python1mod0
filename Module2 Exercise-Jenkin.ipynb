{
 "cells": [
  {
   "cell_type": "markdown",
   "metadata": {},
   "source": [
    "## Exercises\n",
    "### Write the pseudocode for these problems. \n",
    "\n",
    "#### Define the problem by constructing an IPO diagram showing input, output, and processing steps\n",
    "Ask yourself\n",
    "- What control structures (sequence, selection and repetition) are required?\n",
    "- What variables are required?\n",
    "\n",
    "Show a check of your solution with **test data** for at least **two valid test cases**\n",
    "If you use the numbers provided in the example then the correct pseudocode will calculate the same result.\n",
    "    "
   ]
  },
  {
   "cell_type": "markdown",
   "metadata": {},
   "source": [
    "1. Find the average score\n",
    "A program is needed to prompt the user operator for exam scores, calculate the average score and display the result to the screen. The average score is calculated as the sum of the scores divided by the number of scores."
   ]
  },
  {
   "cell_type": "markdown",
   "metadata": {},
   "source": [
    "Input: 5 Scores\n",
    "Process: Sum 5 Scores, Divide by 5\n",
    "Output: Average Score\n",
    "\n",
    "BEGIN\n",
    "\n",
    "    Prompt user for a number 1\n",
    "    Get Numb1\n",
    "    Prompt user for a number 2\n",
    "    Get Numb2\n",
    "    Prompt user for a number 3\n",
    "    Get Numb3\n",
    "    Prompt user for a number 4\n",
    "    Get Numb4\n",
    "    Prompt user for a number 5\n",
    "    Get Numb5  \n",
    "  \n",
    "    Average = (numb1+numb2+numb3+numb4+numb5/5)\n",
    "    \n",
    "    Print Average\n",
    "    \n",
    "END"
   ]
  },
  {
   "cell_type": "markdown",
   "metadata": {},
   "source": [
    "#### 2. How much water runs off a roof in a rain storm?\n",
    "To calculate the runoff from any given rainfall: Take the dimensions of the footprint of the roof and convert them to inches. (So, a 50' x 20' roof is 600\" x 240\"). Multiply the roof dimensions by the number of inches of rainfall. As an example, 600\" x 240\" x 1\" = 144,000 cubic inches of water for an inch of rainfall. Divide that result by 231 to get the number of gallons (because 1 gallon = 231 cubic inches). (144,000/231 = 623.38)."
   ]
  },
  {
   "cell_type": "markdown",
   "metadata": {},
   "source": [
    "BEGIN\n",
    "    Prompt user for length of roof in feet\n",
    "    Get roof_length_feet\n",
    "    \n",
    "    Roof_length_inches = roof_length_feet X 12 \n",
    "\n",
    "    Prompt user for width of roof\n",
    "    Get roof_width_feet\n",
    "    \n",
    "    Roof_width_inches = roof_width_feet X 12\n",
    "\n",
    "    Roof_area_inches = roof_length_inches X roof_width_inches\n",
    "    \n",
    "    Prompt user for number of inches of rainfall\n",
    "    Get inches_rainfall\n",
    "    \n",
    "    Water_run_off = roof_area_inches X inches_rainfall\n",
    "\n",
    "    Gallons_water_run_off = Water_run_off / 231\n",
    "\n",
    "    Print Gallons_water_run_off\n",
    "   \n",
    "END"
   ]
  },
  {
   "cell_type": "markdown",
   "metadata": {},
   "source": [
    "#### 3. Process customer record\n",
    "A program is required to read a customer’s name, a purchase amount and a tax code. The tax code has been validated and will be one of the following: 0 tax exempt (0%) 1 state sales tax only (3%) 2 federal and state sales tax (5%) 3 special sales tax (7%) The program must then compute the sales tax and the total amount due,and print the customer’s name, purchase amount, sales tax and total amount due."
   ]
  },
  {
   "cell_type": "markdown",
   "metadata": {},
   "source": [
    "BEGIN\n",
    "\n",
    "    Prompt User for name\n",
    "    Get Customer_Name\n",
    "    \n",
    "    Prompt User for purchase amount\n",
    "    Get Purchase_Amount\n",
    "    \n",
    "    Prompt User for tax code\n",
    "    Get Tax_Code\n",
    "    \n",
    "        If Tax_Code = 0 \n",
    "        Sales_Tax = Purchase_Amount X 0% \n",
    "    \n",
    "        Else\n",
    "        If Tax_Code = 1 \n",
    "        Sales_Tax = Purchase_Amount X 3% \n",
    "        \n",
    "        Else\n",
    "        If Tax_Code = 2 \n",
    "        Sales_Tax = Purchase_Amount X 5% \n",
    "        \n",
    "        Else\n",
    "        If Tax_Code = 3 \n",
    "        Sales_Tax = Purchase_Amount X 7% \n",
    "\n",
    "        ENDIF\n",
    "    \n",
    "    Total_Amount_Due = Purchase_Amount + Sales_Tax\n",
    "    \n",
    "    Print Customer_Name\n",
    "    Print Purchase_Amount\n",
    "    Print Sales_Tax \n",
    "    Print Total_Amount_Due\n",
    "    \n",
    "END"
   ]
  },
  {
   "cell_type": "markdown",
   "metadata": {},
   "source": [
    "#### 4. Calculate employee's pay \n",
    "A program is required by a company to read an employee’s number, pay rate and the number of hours worked in a week. The program is then to validate the pay rate field and the hours worked field and, if valid, compute the employee’s weekly pay and then print it and the input data.\n",
    "\n",
    "Validation: According to the company’s rules, the maximum hours an employee can work per week is 60 hours, and the maximum hourly rate is $25.00 per hour. If the hours worked field or the hourly rate field is out of range, the input data and an appropriate message are to be printed and the employee’s weekly pay is not to be calculated.\n",
    "\n",
    "Weekly pay calculation: Weekly pay is calculated as hours worked times pay rate. If more than 35 hours are worked, payment for the overtime hours worked is calculated at time-and-a-half."
   ]
  },
  {
   "cell_type": "markdown",
   "metadata": {},
   "source": [
    "BEGIN\n",
    "\n",
    "    Prompt User for name\n",
    "    Get Customer_Name\n",
    "    \n",
    "    Prompt User for employee’s number\n",
    "    Get Employee_Number \n",
    "    \n",
    "    Prompt User for pay rate \n",
    "    Get Pay_Rate \n",
    "    \n",
    "    If Pay_Rate > 25\n",
    "    Print Pay_Rate is greater than 25. Pay rate cannot be calculated unless rate is 25 or lower.\n",
    "    \n",
    "    Prompt User for the number of hours worked in a week\n",
    "    Get Number_Hours\n",
    "    \n",
    "    If Hours_Worked > 60\n",
    "    Hours_Worked is greater than 60. Weekly pay cannot be calculated unless # of hours worked is 60 or fewer.\n",
    "    \n",
    "    If hours_worked > 35\n",
    "    Payment = Number_Hours X (Pay_Rate X 1.5)\n",
    "    \n",
    "    Weekly_pay = hours_worked X pay_rate\n",
    "\n",
    "    Print Customer_Name\n",
    "    Print Employee_Number \n",
    "    Print Pay_Rate \n",
    "    Print Number_Hours\n",
    "    Print Weekly_Pay\n",
    "    \n",
    "END"
   ]
  }
 ],
 "metadata": {
  "kernelspec": {
   "display_name": "Python 3 (ipykernel)",
   "language": "python",
   "name": "python3"
  },
  "language_info": {
   "codemirror_mode": {
    "name": "ipython",
    "version": 3
   },
   "file_extension": ".py",
   "mimetype": "text/x-python",
   "name": "python",
   "nbconvert_exporter": "python",
   "pygments_lexer": "ipython3",
   "version": "3.11.7"
  }
 },
 "nbformat": 4,
 "nbformat_minor": 4
}
