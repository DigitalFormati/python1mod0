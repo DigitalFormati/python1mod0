{
 "cells": [
  {
   "cell_type": "markdown",
   "metadata": {},
   "source": [
    "1. Round 4.5667 to the nearest hundreth using a build-in function, round()."
   ]
  },
  {
   "cell_type": "code",
   "execution_count": 2,
   "metadata": {},
   "outputs": [
    {
     "data": {
      "text/plain": [
       "4.57"
      ]
     },
     "execution_count": 2,
     "metadata": {},
     "output_type": "execute_result"
    }
   ],
   "source": [
    "round (4.5667, 2)"
   ]
  },
  {
   "cell_type": "markdown",
   "metadata": {},
   "source": [
    "2. Convert \"657\" to an integer data type"
   ]
  },
  {
   "cell_type": "code",
   "execution_count": 3,
   "metadata": {},
   "outputs": [
    {
     "data": {
      "text/plain": [
       "657"
      ]
     },
     "execution_count": 3,
     "metadata": {},
     "output_type": "execute_result"
    }
   ],
   "source": [
    "int(657)"
   ]
  },
  {
   "cell_type": "markdown",
   "metadata": {},
   "source": [
    "3.\n",
    "Write a program to get two numbers from a user. Then, create a secret code where a code consists of 6 numbers and each number is randomly generated number between two numbers from a user. "
   ]
  },
  {
   "cell_type": "code",
   "execution_count": 2,
   "metadata": {},
   "outputs": [
    {
     "name": "stdin",
     "output_type": "stream",
     "text": [
      "Enter the lower limit:  2\n",
      "Enter the upper limit:  7\n"
     ]
    },
    {
     "name": "stdout",
     "output_type": "stream",
     "text": [
      "Secret code: [5, 4, 6, 2, 6, 4]\n"
     ]
    }
   ],
   "source": [
    "import random\n",
    "\n",
    "lower_limit = int(input(\"Enter the lower limit: \"))\n",
    "upper_limit = int(input(\"Enter the upper limit: \"))\n",
    "\n",
    "secret_code = [random.randint(lower_limit, upper_limit) for _ in range(6)]\n",
    "\n",
    "print(f\"Secret code: {secret_code}\")"
   ]
  },
  {
   "cell_type": "markdown",
   "metadata": {},
   "source": [
    "4.\n",
    "Write a program to center align below text where number of characters per line is 40.\n",
    "\n",
    "Output should look something like this:\n",
    "\n",
    "        Hickory, dickory, dock,        \n",
    "      The mouse ran up the clock.      \n",
    "         The clock struck one,         \n",
    "          The mouse ran down,          \n",
    "         Hickory, dickory, dock \n",
    "\n",
    "<b>Do not use string's center method! </b>"
   ]
  },
  {
   "cell_type": "code",
   "execution_count": 9,
   "metadata": {},
   "outputs": [
    {
     "name": "stdout",
     "output_type": "stream",
     "text": [
      "  Hickory, dickory, dock, The mouse ran \n",
      "up the clock. The clock struck one, The \n",
      " mouse ran down, Hickory, dickory, dock \n"
     ]
    }
   ],
   "source": [
    "def center_align_text(text, line_length=40):\n",
    "    # Split the text into words\n",
    "    words = text.split()\n",
    "\n",
    "    # Initialize variables\n",
    "    current_line = \"\"\n",
    "    result = []\n",
    "\n",
    "    # Iterate over each word\n",
    "    for word in words:\n",
    "        # If adding the word to the current line exceeds the line length\n",
    "        if len(current_line) + len(word) + 1 > line_length:\n",
    "            # Calculate the number of spaces needed for center alignment\n",
    "            spaces_needed = line_length - len(current_line)\n",
    "            left_spaces = spaces_needed // 2\n",
    "            right_spaces = spaces_needed - left_spaces\n",
    "\n",
    "            # Add the current line to the result with appropriate spaces\n",
    "            result.append(\" \" * left_spaces + current_line + \" \" * right_spaces)\n",
    "\n",
    "            # Start a new line with the current word\n",
    "            current_line = word\n",
    "        else:\n",
    "            # Add the word to the current line\n",
    "            current_line += \" \" + word\n",
    "\n",
    "    # Calculate the number of spaces needed for center alignment in the last line\n",
    "    spaces_needed = line_length - len(current_line)\n",
    "    left_spaces = spaces_needed // 2\n",
    "    right_spaces = spaces_needed - left_spaces\n",
    "\n",
    "    # Add the last line to the result with appropriate spaces\n",
    "    result.append(\" \" * left_spaces + current_line + \" \" * right_spaces)\n",
    "\n",
    "    # Join the lines and return the result\n",
    "    return \"\\n\".join(result)\n",
    "\n",
    "# Example text\n",
    "text = \"\"\"\n",
    "Hickory, dickory, dock,\n",
    "The mouse ran up the clock.\n",
    "The clock struck one,\n",
    "The mouse ran down,\n",
    "Hickory, dickory, dock\n",
    "\"\"\"\n",
    "\n",
    "# Center align the text and print the result\n",
    "print(center_align_text(text))"
   ]
  },
  {
   "cell_type": "markdown",
   "metadata": {},
   "source": [
    "5. Write a function to calculate the miles per gallon.\n",
    "Get a miles driven and gallons used from a user and call your function to calculate the miles per gallon. "
   ]
  },
  {
   "cell_type": "code",
   "execution_count": 10,
   "metadata": {},
   "outputs": [
    {
     "name": "stdin",
     "output_type": "stream",
     "text": [
      "Enter the number of miles driven:  100\n",
      "Enter the number of gallons used:  4\n"
     ]
    },
    {
     "name": "stdout",
     "output_type": "stream",
     "text": [
      "Miles per gallon (MPG): 25.00\n"
     ]
    }
   ],
   "source": [
    "def calculate_miles_per_gallon(miles_driven, gallons_used):\n",
    "    \"\"\"\n",
    "    Calculates miles per gallon (MPG) based on miles driven and gallons used.\n",
    "\n",
    "    Args:\n",
    "        miles_driven (float): Number of miles driven.\n",
    "        gallons_used (float): Number of gallons used.\n",
    "\n",
    "    Returns:\n",
    "        float: Miles per gallon (MPG).\n",
    "    \"\"\"\n",
    "    if gallons_used == 0:\n",
    "        return 0\n",
    "    return miles_driven / gallons_used\n",
    "\n",
    "# Get input from the user\n",
    "miles_driven = float(input(\"Enter the number of miles driven: \"))\n",
    "gallons_used = float(input(\"Enter the number of gallons used: \"))\n",
    "\n",
    "# Calculate MPG\n",
    "mpg = calculate_miles_per_gallon(miles_driven, gallons_used)\n",
    "\n",
    "# Print the result\n",
    "print(f\"Miles per gallon (MPG): {mpg:.2f}\")"
   ]
  },
  {
   "cell_type": "code",
   "execution_count": null,
   "metadata": {},
   "outputs": [],
   "source": []
  }
 ],
 "metadata": {
  "kernelspec": {
   "display_name": "Python 3 (ipykernel)",
   "language": "python",
   "name": "python3"
  },
  "language_info": {
   "codemirror_mode": {
    "name": "ipython",
    "version": 3
   },
   "file_extension": ".py",
   "mimetype": "text/x-python",
   "name": "python",
   "nbconvert_exporter": "python",
   "pygments_lexer": "ipython3",
   "version": "3.11.7"
  }
 },
 "nbformat": 4,
 "nbformat_minor": 4
}
