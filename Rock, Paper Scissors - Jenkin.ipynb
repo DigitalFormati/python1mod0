{
 "cells": [
  {
   "cell_type": "code",
   "execution_count": 13,
   "id": "dee4301b-3cf7-4de9-8d75-de551ac663cf",
   "metadata": {},
   "outputs": [
    {
     "name": "stdout",
     "output_type": "stream",
     "text": [
      "Welcome Jennifer, to Dan's rock-paper-scissors game, good luck!\n"
     ]
    },
    {
     "name": "stdin",
     "output_type": "stream",
     "text": [
      "Enter your choice of rock, paper, or scissors:  rock\n"
     ]
    },
    {
     "name": "stdout",
     "output_type": "stream",
     "text": [
      "Dan choses: paper\n",
      "Yikes, thst is the wrong answer, here comes your punishment, look up!\n"
     ]
    }
   ],
   "source": [
    "import random\n",
    "\n",
    "def get_user_choice():\n",
    "\n",
    "    # Get user's choice (rock, paper, or scissors).\n",
    "\n",
    "    while True:\n",
    "        user_choice = input(\"Enter your choice of rock, paper, or scissors: \").lower()\n",
    "        if user_choice in [\"rock\", \"paper\", \"scissors\"]:\n",
    "            return user_choice\n",
    "        else:\n",
    "            print(\"That is not an option. Please enter rock, paper, or scissors.\")\n",
    "\n",
    "def get_computer_choice():\n",
    "\n",
    "    # Generate a random choice for the computer.\n",
    "\n",
    "    return random.choice([\"rock\", \"paper\", \"scissors\"])\n",
    "\n",
    "def determine_winner(user_choice, computer_choice):\n",
    "\n",
    "    # Determine the winner based on the game rules.\n",
    "\n",
    "    if user_choice == computer_choice:\n",
    "        return \"It's a draw.\"\n",
    "    elif (user_choice == \"rock\" and computer_choice == \"scissors\") or \\\n",
    "         (user_choice == \"scissors\" and computer_choice == \"paper\") or \\\n",
    "         (user_choice == \"paper\" and computer_choice == \"rock\"):\n",
    "        return \"Jennifer wins!\"\n",
    "    else:\n",
    "        return \"Yikes, that is the wrong answer, here comes your punishment, look up!\"\n",
    "\n",
    "def main():\n",
    "    print(\"Welcome Jennifer, to Dan's rock-paper-scissors game, good luck!\")\n",
    "    user_choice = get_user_choice()\n",
    "    computer_choice = get_computer_choice()\n",
    "    print(f\"Dan choses: {computer_choice}\")\n",
    "    print(determine_winner(user_choice, computer_choice))\n",
    "\n",
    "if __name__ == \"__main__\":\n",
    "    main()"
   ]
  },
  {
   "cell_type": "code",
   "execution_count": 9,
   "id": "32fd724c-e1a1-45c1-9566-75b6b9e3f5a0",
   "metadata": {},
   "outputs": [
    {
     "name": "stdout",
     "output_type": "stream",
     "text": [
      "Welcome to Rock-Paper-Scissors Game!\n"
     ]
    },
    {
     "name": "stdin",
     "output_type": "stream",
     "text": [
      "Enter your choice (rock, paper, or scissors):  rock\n"
     ]
    },
    {
     "name": "stdout",
     "output_type": "stream",
     "text": [
      "Computer chose: paper\n",
      "You lose.\n"
     ]
    }
   ],
   "source": []
  },
  {
   "cell_type": "code",
   "execution_count": null,
   "id": "fcfd6db1-2a15-4aad-84d9-95a2d28c61d3",
   "metadata": {},
   "outputs": [],
   "source": []
  }
 ],
 "metadata": {
  "kernelspec": {
   "display_name": "Python 3 (ipykernel)",
   "language": "python",
   "name": "python3"
  },
  "language_info": {
   "codemirror_mode": {
    "name": "ipython",
    "version": 3
   },
   "file_extension": ".py",
   "mimetype": "text/x-python",
   "name": "python",
   "nbconvert_exporter": "python",
   "pygments_lexer": "ipython3",
   "version": "3.11.7"
  }
 },
 "nbformat": 4,
 "nbformat_minor": 5
}
